{
 "cells": [
  {
   "cell_type": "code",
   "execution_count": 2,
   "metadata": {},
   "outputs": [],
   "source": [
    "import os\n",
    "from enum import Enum\n",
    "import numpy as np\n",
    "from PIL import Image\n",
    "import cv2\n",
    "import torch\n",
    "import torch.nn as nn\n",
    "from torchvision import transforms, models\n",
    "import matplotlib.pyplot as plt"
   ]
  },
  {
   "cell_type": "code",
   "execution_count": 3,
   "metadata": {},
   "outputs": [],
   "source": [
    "class EnumArchitecture(Enum):\n",
    "    EFFICIENTNET = \"efficientnet\"\n",
    "    RESNET = \"resnet\""
   ]
  },
  {
   "cell_type": "code",
   "execution_count": 9,
   "metadata": {},
   "outputs": [],
   "source": [
    "ANS = 0\n",
    "TRUE={\n",
    "    \"0\": \"0Aptenodytes/\",\n",
    "    \"1\": \"1Pygoscelis/\",\n",
    "    \"2\": \"2Spheniscus/\",\n",
    "    \"3\": \"3Eudyptes/\",\n",
    "    \"4\": \"4Megadyptes/\",\n",
    "    \"5\": \"5Eudyptula/\",\n",
    "    \"6\": \"6Other/\",\n",
    "}\n",
    "NUMBER = \"penguin\"\n",
    "ARCHITECTURE = EnumArchitecture.EFFICIENTNET.value\n",
    "MODEL = f\"../train/model/{ARCHITECTURE}-penguin-7cls.pt\"\n",
    "out_features = len(TRUE)\n",
    "ans = \"train\" # col # misd\n",
    "\n",
    "for k, i in TRUE.items():\n",
    "    os.makedirs(f\"heatmap/{NUMBER}/{i}\", exist_ok=True)"
   ]
  },
  {
   "cell_type": "code",
   "execution_count": null,
   "metadata": {},
   "outputs": [],
   "source": []
  }
 ],
 "metadata": {
  "kernelspec": {
   "display_name": "Python 3",
   "language": "python",
   "name": "python3"
  },
  "language_info": {
   "codemirror_mode": {
    "name": "ipython",
    "version": 3
   },
   "file_extension": ".py",
   "mimetype": "text/x-python",
   "name": "python",
   "nbconvert_exporter": "python",
   "pygments_lexer": "ipython3",
   "version": "3.11.5"
  },
  "orig_nbformat": 4
 },
 "nbformat": 4,
 "nbformat_minor": 2
}
